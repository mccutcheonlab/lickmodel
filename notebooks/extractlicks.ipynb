{
 "cells": [
  {
   "cell_type": "code",
   "execution_count": 145,
   "metadata": {},
   "outputs": [],
   "source": [
    "import os\n",
    "import numpy as np\n",
    "import xlrd\n",
    "\n",
    "%run helperfx.py"
   ]
  },
  {
   "cell_type": "code",
   "execution_count": 146,
   "metadata": {},
   "outputs": [],
   "source": [
    "def ConvertMedToModelData(filename, CasVar, MaltoVar):\n",
    "    \n",
    "    # Extracts lick data form medfiles\n",
    "    data = medfilereader(filename, varsToExtract=[CasVar, MaltoVar], remove_var_header=True)\n",
    "    LicksL = data[0]\n",
    "    LicksR = data[1]\n",
    "\n",
    "    # Combines left and right licks\n",
    "    LicksAll = np.asarray(LicksL+LicksR)\n",
    "    LicksAll_code = np.asarray([1]*len(LicksL) + [2]*len(LicksR))\n",
    "\n",
    "    # orders licks in time and sorts coded lick train\n",
    "    inds = np.argsort(LicksAll)\n",
    "\n",
    "    LicksAll_sorted = LicksAll[inds]\n",
    "    LicksAll_code_sorted = LicksAll_code[inds]\n",
    "\n",
    "    # uses ILIs to find gaps between clusters\n",
    "    LicksAll_diff = np.diff(LicksAll_sorted)\n",
    "    gaps = [i for i, x in enumerate(LicksAll_diff) if x > 0.5]\n",
    "\n",
    "    # Adds zeros to produce gaps between clusters\n",
    "    gaps.reverse()\n",
    "    for idx in gaps:\n",
    "        LicksAll_code_sorted = np.insert(LicksAll_code_sorted, idx+1, 0)\n",
    "\n",
    "    # Inserts a zero at the start of lick train to match model data\n",
    "    LicksAll_code_sorted = np.insert(LicksAll_code_sorted, 0, 0)\n",
    "\n",
    "    return LicksAll_code_sorted"
   ]
  },
  {
   "cell_type": "code",
   "execution_count": 152,
   "metadata": {},
   "outputs": [],
   "source": [
    "xlfile = 'R:\\\\DA_and_Reward\\\\gc214\\\\IPP3\\\\IPP3_expdetails.xlsx'\n",
    "metafilename = 'IPP3_metafile'\n",
    "\n",
    "metafilemaker(xlfile, metafilename, fileformat='txt')\n",
    "\n",
    "metadata, header = metafilereader(metafilename+'.txt')"
   ]
  },
  {
   "cell_type": "code",
   "execution_count": 172,
   "metadata": {},
   "outputs": [],
   "source": [
    "medfolder = 'R:\\\\DA_and_Reward\\\\gc214\\\\IPP3\\\\MED-PC datafile\\\\'\n",
    "\n",
    "test1_data_NR = {}\n",
    "test1_data_PR = {}\n",
    "\n",
    "for row in metadata:\n",
    "    if row[2] == 's4':\n",
    "        rat = row[1]\n",
    "        filename = medfolder + row[0]\n",
    "        \n",
    "        if 'cas' in row[6]:\n",
    "            casvar = 'b'\n",
    "            maltvar = 'e'\n",
    "        if 'cas' in row[7]:\n",
    "            casvar = 'e'\n",
    "            maltvar = 'b'        \n",
    "        \n",
    "        output = ConvertMedToModelData(filename, casvar, maltvar)\n",
    "        \n",
    "        if row[4] == 'NR': \n",
    "            test1_data_NR[rat] = output\n",
    "        if row[4] == 'PR': \n",
    "            test1_data_PR[rat] = output"
   ]
  },
  {
   "cell_type": "code",
   "execution_count": 173,
   "metadata": {},
   "outputs": [
    {
     "name": "stdout",
     "output_type": "stream",
     "text": [
      "[0 1 1 ... 1 1 1]\n",
      "4775\n",
      "[0 2 2 ... 2 2 2]\n",
      "4638\n",
      "[0 2 2 ... 1 1 1]\n",
      "1854\n",
      "[0 1 1 ... 1 0 1]\n",
      "1466\n",
      "[0 1 0 ... 1 1 1]\n",
      "513\n",
      "[0 1 1 ... 0 1 1]\n",
      "3015\n"
     ]
    }
   ],
   "source": [
    "# for i in test1_data_PR:\n",
    "#     print(test1_data_PR[i])\n",
    "#     print(len([x for x in test1_data_PR[i] if x == 1]))"
   ]
  },
  {
   "cell_type": "code",
   "execution_count": 1,
   "metadata": {},
   "outputs": [
    {
     "name": "stdout",
     "output_type": "stream",
     "text": [
      "Extracted licks from Med data\n"
     ]
    }
   ],
   "source": [
    "print('Extracted licks from Med data')"
   ]
  },
  {
   "cell_type": "code",
   "execution_count": null,
   "metadata": {},
   "outputs": [],
   "source": []
  }
 ],
 "metadata": {
  "kernelspec": {
   "display_name": "Python 3",
   "language": "python",
   "name": "python3"
  },
  "language_info": {
   "codemirror_mode": {
    "name": "ipython",
    "version": 3
   },
   "file_extension": ".py",
   "mimetype": "text/x-python",
   "name": "python",
   "nbconvert_exporter": "python",
   "pygments_lexer": "ipython3",
   "version": "3.7.3"
  }
 },
 "nbformat": 4,
 "nbformat_minor": 2
}
