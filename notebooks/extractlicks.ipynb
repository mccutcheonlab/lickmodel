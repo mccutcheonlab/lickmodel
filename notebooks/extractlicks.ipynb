{
 "cells": [
  {
   "cell_type": "code",
   "execution_count": null,
   "metadata": {
    "collapsed": true
   },
   "outputs": [],
   "source": [
    "import os"
   ]
  },
  {
   "cell_type": "code",
   "execution_count": null,
   "metadata": {
    "collapsed": true
   },
   "outputs": [],
   "source": [
    "# userhome = os.path.expanduser('~')\n",
    "cwd = os.getcwd()\n",
    "print(cwd)"
   ]
  },
  {
   "cell_type": "code",
   "execution_count": null,
   "metadata": {
    "collapsed": true
   },
   "outputs": [],
   "source": [
    "datafolder = cwd + '\\\\cas9_medfiles\\\\'\n",
    "metafile = cwd + '\\\\CAS9_metafile.txt'\n",
    "\n",
    "\n",
    "\n",
    "def extractlicks(self, substance):\n",
    "    licks = medfilereader(self.medfile,\n",
    "                              varsToExtract = sub2var(self, substance),\n",
    "                                                remove_var_header = True)\n",
    "    lickData = lickCalc(licks, burstThreshold=0.5, binsize=120)        \n",
    "\n",
    "    return lickData"
   ]
  },
  {
   "cell_type": "code",
   "execution_count": null,
   "metadata": {
    "collapsed": true
   },
   "outputs": [],
   "source": [
    "def metafilereader(filename):\n",
    "    \n",
    "    f = open(filename, 'r')\n",
    "    f.seek(0)\n",
    "    header = f.readlines()[0]\n",
    "    f.seek(0)\n",
    "    filerows = f.readlines()[1:]\n",
    "    \n",
    "    tablerows = []\n",
    "    \n",
    "    for i in filerows:\n",
    "        tablerows.append(i.split('\\t'))\n",
    "        \n",
    "    header = header.split('\\t')\n",
    "\n",
    "    return tablerows, header"
   ]
  },
  {
   "cell_type": "code",
   "execution_count": null,
   "metadata": {
    "collapsed": true
   },
   "outputs": [],
   "source": [
    "def isnumeric(s):\n",
    "    try:\n",
    "        x = float(s)\n",
    "        return x\n",
    "    except ValueError:\n",
    "        return float('nan')"
   ]
  },
  {
   "cell_type": "code",
   "execution_count": null,
   "metadata": {
    "collapsed": true
   },
   "outputs": [],
   "source": []
  },
  {
   "cell_type": "code",
   "execution_count": null,
   "metadata": {
    "collapsed": true
   },
   "outputs": [],
   "source": []
  },
  {
   "cell_type": "code",
   "execution_count": null,
   "metadata": {
    "collapsed": true
   },
   "outputs": [],
   "source": []
  }
 ],
 "metadata": {
  "kernelspec": {
   "display_name": "Python 3",
   "language": "python",
   "name": "python3"
  }
 },
 "nbformat": 4,
 "nbformat_minor": 2
}
