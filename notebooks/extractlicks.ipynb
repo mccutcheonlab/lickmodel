{
 "cells": [
  {
   "cell_type": "code",
   "execution_count": 2,
   "metadata": {},
   "outputs": [],
   "source": [
    "import os\n",
    "import numpy as np\n",
    "import xlrd\n",
    "\n",
    "%run helperfx.py"
   ]
  },
  {
   "cell_type": "code",
   "execution_count": 3,
   "metadata": {},
   "outputs": [],
   "source": [
    "def ConvertMedToModelData(filename, CasVar, MaltoVar):\n",
    "    \n",
    "    # Extracts lick data form medfiles\n",
    "    data = medfilereader(filename, varsToExtract=[CasVar, MaltoVar], remove_var_header=True)\n",
    "    LicksCas = data[0]\n",
    "    LicksMalt = data[1]\n",
    "\n",
    "    # Combines left and right licks\n",
    "    LicksAll = np.asarray(LicksCas+LicksMalt)\n",
    "    LicksAll_code = np.asarray([1]*len(LicksCas) + [0]*len(LicksMalt))\n",
    "\n",
    "    # orders licks in time and sorts coded lick train\n",
    "    inds = np.argsort(LicksAll)\n",
    "\n",
    "    LicksAll_sorted = LicksAll[inds]\n",
    "    LicksAll_code_sorted = LicksAll_code[inds]\n",
    "\n",
    "    # uses ILIs to find gaps between clusters\n",
    "    LicksAll_diff = np.diff(LicksAll_sorted)\n",
    "    gaps = [i for i, x in enumerate(LicksAll_diff) if x > 0.5]\n",
    "\n",
    "    # Adds zeros to produce gaps between clusters\n",
    "    gaps.reverse()\n",
    "    for idx in gaps:\n",
    "        LicksAll_code_sorted = np.insert(LicksAll_code_sorted, idx+1, 5)\n",
    "\n",
    "    # Inserts a zero at the start of lick train to match model data\n",
    "    LicksAll_code_sorted = np.insert(LicksAll_code_sorted, 0, 5)\n",
    "    \n",
    "    # changes 5s to 0.5 as arrays are integer only\n",
    "    output = [0.5 if x==5 else x for x in LicksAll_code_sorted]\n",
    "\n",
    "    return output"
   ]
  },
  {
   "cell_type": "code",
   "execution_count": 4,
   "metadata": {},
   "outputs": [],
   "source": [
    "xlfile = '..\\\\data\\\\IPP3_expdetails.xlsx'\n",
    "metafilename = 'IPP3_metafile'\n",
    "\n",
    "metafilemaker(xlfile, metafilename, fileformat='txt')\n",
    "\n",
    "metadata, header = metafilereader(metafilename+'.txt')"
   ]
  },
  {
   "cell_type": "code",
   "execution_count": 6,
   "metadata": {},
   "outputs": [],
   "source": [
    "medfolder = '..\\\\data\\\\IPP3_medfiles\\\\'\n",
    "\n",
    "test1_data_NR = {}\n",
    "test1_data_PR = {}\n",
    "\n",
    "for row in metadata:\n",
    "    if row[2] == 's4':\n",
    "        rat = row[1]\n",
    "        filename = medfolder + row[0]\n",
    "        \n",
    "        if 'cas' in row[6]:\n",
    "            casvar = 'b'\n",
    "            maltvar = 'e'\n",
    "        if 'cas' in row[7]:\n",
    "            casvar = 'e'\n",
    "            maltvar = 'b'        \n",
    "        \n",
    "        output = ConvertMedToModelData(filename, casvar, maltvar)\n",
    "        \n",
    "        if row[4] == 'NR': \n",
    "            test1_data_NR[rat] = output\n",
    "        if row[4] == 'PR': \n",
    "            test1_data_PR[rat] = output"
   ]
  },
  {
   "cell_type": "code",
   "execution_count": 7,
   "metadata": {},
   "outputs": [],
   "source": [
    "# for i in test1_data_PR:\n",
    "#     print(test1_data_PR[i])\n",
    "#     print(len([x for x in test1_data_PR[i] if x == 1]))"
   ]
  },
  {
   "cell_type": "code",
   "execution_count": 8,
   "metadata": {},
   "outputs": [
    {
     "name": "stdout",
     "output_type": "stream",
     "text": [
      "Extracted licks from Med data\n"
     ]
    }
   ],
   "source": [
    "print('Extracted licks from Med data')"
   ]
  },
  {
   "cell_type": "code",
   "execution_count": null,
   "metadata": {},
   "outputs": [],
   "source": []
  }
 ],
 "metadata": {
  "kernelspec": {
   "display_name": "Python 3",
   "language": "python",
   "name": "python3"
  },
  "language_info": {
   "codemirror_mode": {
    "name": "ipython",
    "version": 3
   },
   "file_extension": ".py",
   "mimetype": "text/x-python",
   "name": "python",
   "nbconvert_exporter": "python",
   "pygments_lexer": "ipython3",
   "version": "3.7.3"
  }
 },
 "nbformat": 4,
 "nbformat_minor": 2
}
