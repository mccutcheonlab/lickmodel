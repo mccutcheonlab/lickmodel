{
 "cells": [
  {
   "cell_type": "markdown",
   "metadata": {},
   "source": [
    "# Lick model"
   ]
  },
  {
   "cell_type": "markdown",
   "metadata": {},
   "source": [
    "### This notebook is an initial attempt to model trains of licks when rats are choosing between two solutions (e.g. protein and carbohydrate)"
   ]
  },
  {
   "cell_type": "code",
   "execution_count": 1,
   "metadata": {},
   "outputs": [],
   "source": [
    "import random\n",
    "import numpy as np\n",
    "import math\n",
    "from scipy.stats import lognorm\n",
    "\n",
    "import matplotlib as mpl\n",
    "my_params = mpl.rcParams\n",
    "import matplotlib.pyplot as plt\n",
    "import matplotlib.gridspec as gridspec\n",
    "import seaborn as sns\n",
    "\n",
    "savefolder = 'C:\\\\Users\\\\James Rig\\\\Dropbox\\\\AbstractsAndTalks\\\\2019-06-12_MOAB Lick microstructure\\\\figs\\\\'\n",
    "\n",
    "%matplotlib inline\n",
    "%run helperfx\n",
    "\n",
    "run_notebook=False"
   ]
  },
  {
   "cell_type": "code",
   "execution_count": 2,
   "metadata": {},
   "outputs": [],
   "source": [
    "# Edit these values when using this notebook\n",
    "use_real_data = False\n",
    "simulate_data = True\n",
    "fit_data = False\n",
    "\n",
    "# set parameters for simulated data\n",
    "if simulate_data:\n",
    "    PP = 0.5\n",
    "    lam = 15\n",
    "\n",
    "# set bounds for fitting data\n",
    "if fit_data:\n",
    "    bounds = {'PP':[0, 1, 20], 'lam':[0.5, 40, 20]}\n",
    "\n",
    "    boundbins = []\n",
    "    boundbins.append(np.arange(bounds['PP'][0], bounds['PP'][1], bounds['PP'][1]/bounds['PP'][2]))\n",
    "    boundbins.append(np.arange(bounds['lam'][0], bounds['lam'][1], bounds['lam'][1]/bounds['lam'][2]))\n",
    "\n",
    "if use_real_data and simulate_data:\n",
    "    print('Over-riding simulate_data because use_real_data is selected.')\n",
    "    simulate_data = False"
   ]
  },
  {
   "cell_type": "code",
   "execution_count": 3,
   "metadata": {},
   "outputs": [],
   "source": [
    "# This function will be called when simulating test data and data for performing fits\n",
    "\n",
    "def runmodel(PP, lam, nruns):\n",
    "    \n",
    "    # Create system with vars of interest\n",
    "    System = {}\n",
    "    System['PP'] = PP\n",
    "    System['lam'] = lam\n",
    "    System['licksinburst'] = 0\n",
    "    \n",
    "    # Initializes array for storing data\n",
    "    output = [0.5]\n",
    "    \n",
    "    # for lognormal update func\n",
    "    sigma = 0.9\n",
    "    System['dist'] = lognorm(sigma)\n",
    "\n",
    "    for i in range(1, nruns):\n",
    "        update_func(System, output)\n",
    "    \n",
    "    return output"
   ]
  },
  {
   "cell_type": "code",
   "execution_count": 4,
   "metadata": {},
   "outputs": [],
   "source": [
    "def update_func(System, licks):\n",
    "    pp = System['PP']\n",
    "    lam = System['lam']\n",
    "    x = System['licksinburst']\n",
    "    \n",
    "    if licks[-1] == 0.5:\n",
    "            if random.random() < pp:\n",
    "                licks.append(1)            \n",
    "            else:\n",
    "                licks.append(0)\n",
    "            System['licksinburst'] = x+1\n",
    "    else:\n",
    "        p_cont = math.exp(-x*(1/lam))\n",
    "        if random.random() < p_cont:           \n",
    "            licks.append(licks[-1])\n",
    "            System['licksinburst'] = x+1\n",
    "        else:\n",
    "            licks.append(0.5)\n",
    "            System['licksinburst'] = 0          "
   ]
  },
  {
   "cell_type": "code",
   "execution_count": 6,
   "metadata": {},
   "outputs": [],
   "source": [
    "def analyse_licks(data, bins):\n",
    "    \n",
    "    caslicks = len([x for x in data if x == 1])\n",
    "    maltlicks = len([x for x in data if x == 0])\n",
    "    realPP = caslicks/(caslicks + maltlicks)\n",
    "    \n",
    "    burstarray = []\n",
    "    tmp = []\n",
    "    for i, x in enumerate(data):\n",
    "        if x == 0.5:\n",
    "            burstarray.append(tmp)\n",
    "            tmp = []\n",
    "        else:\n",
    "            tmp.append(x)\n",
    "    \n",
    "    bursts = []\n",
    "    hists = []\n",
    "    cumsums = []\n",
    "    cumsums_norm = []\n",
    "    \n",
    "    for code in [0, 1]: \n",
    "        b = [len(x) for x in burstarray[1:] if x[0]==code]\n",
    "        h = np.histogram(b, bins=bins) # add binsize\n",
    "        cs = np.cumsum(h[0])\n",
    "\n",
    "        bursts.append(b)\n",
    "        hists.append(h)\n",
    "        cumsums.append(cs)\n",
    "        \n",
    "    cumsums_norm.append([(x/cumsums[0][-1])*(1-realPP) for x in cumsums[0]]) # makes cumsums norm'd to toal licks\n",
    "    cumsums_norm.append([(x/cumsums[1][-1])*(realPP) for x in cumsums[1]])\n",
    "    \n",
    "    return ({'licks':data, 'bursts':bursts, 'hists':hists, 'cumsums':cumsums, 'cumsums_norm':cumsums_norm, 'realPP':realPP })"
   ]
  },
  {
   "cell_type": "code",
   "execution_count": 7,
   "metadata": {},
   "outputs": [],
   "source": [
    "def fit(lickdata, boundbins, histbins, nruns=1000, fittype='hist'):\n",
    "    print('Fitting data using bounds provided.')\n",
    "\n",
    "    nPP = len(boundbins[0])\n",
    "    nlam = len(boundbins[1])\n",
    "    \n",
    "    grid = np.empty((nPP,nlam,))\n",
    "    \n",
    "    pp_matrix = boundbins[0]\n",
    "    lam_matrix = boundbins[1]\n",
    "    \n",
    "    for pp_idx, pp in enumerate(pp_matrix):\n",
    "        for lam_idx, lam in enumerate(lam_matrix):\n",
    "            comparison_data = runmodel(pp, lam, nruns)\n",
    "            licks_to_fit = analyse_licks(comparison_data, histbins)\n",
    "            \n",
    "            #work out loglik for hist bins using compare function and place this value in the grid\n",
    "            \n",
    "            diffs = []\n",
    "            \n",
    "            # To use histograms for comparison with model\n",
    "            if fittype == 'hist':\n",
    "                for bottle in [0, 1]:\n",
    "                    data = lickdata['hists'][bottle][0]\n",
    "                    comp = licks_to_fit['hists'][bottle][0]         \n",
    "                    diffs.append(sum([np.abs(x-y) for x,y in zip(data, comp)]))\n",
    "            else:\n",
    "            # To use cumulative distributions for comparison with model\n",
    "                for bottle in [0, 1]:\n",
    "                    data = lickdata['cumsums'][bottle]\n",
    "                    comp = licks_to_fit['cumsums'][bottle]       \n",
    "                    diffs.append(sum([np.abs(x-y) for x,y in zip(data, comp)]))\n",
    "            \n",
    "            grid[pp_idx, lam_idx] = sum(diffs)\n",
    "    \n",
    "    grid = 1/grid\n",
    "    \n",
    "    tmp = np.sum(grid, axis=1)\n",
    "    pp_marglik = tmp/sum(tmp)\n",
    "    pp_ML = boundbins[0][np.argmax(pp_marglik)]\n",
    "    pp_EV = sum(boundbins[0]*pp_marglik)\n",
    "    \n",
    "    tmp = np.sum(grid, axis=0)\n",
    "    lam_marglik = tmp/sum(tmp)\n",
    "    lam_ML = boundbins[1][np.argmax(lam_marglik)]\n",
    "    lam_EV = sum(boundbins[1]*lam_marglik)\n",
    "    \n",
    "    fitted = {'grid':grid,\n",
    "              'pp_marglik': pp_marglik, 'pp_ML':pp_ML, 'pp_EV':pp_EV,\n",
    "              'lam_marglik': lam_marglik, 'lam_ML':lam_ML, 'lam_EV':lam_EV}\n",
    "    \n",
    "    return fitted"
   ]
  },
  {
   "cell_type": "code",
   "execution_count": 8,
   "metadata": {},
   "outputs": [],
   "source": [
    "# Code to get data to be tested - either real or simulated - to be used when testing new parameters, functions etc\n",
    "\n",
    "if run_notebook:   \n",
    "\n",
    "    nruns=5000\n",
    "    histbins = np.arange(0,100)\n",
    "    \n",
    "# in future this will allow one to select subjects and experiments by including arguments for medfile location etc    \n",
    "    if use_real_data:\n",
    "        %run extractlicks.ipynb\n",
    "        ratkey = 'IPP3.11'\n",
    "        licks = test1_data_PR[ratkey]\n",
    "\n",
    "    if simulate_data:\n",
    "        print('Simulating data with values: PP={0} and lamda={1}'.format(PP,lam))\n",
    "        ratkey = 'simulated_PP={0}_lambda={1}'.format(PP,lam)\n",
    "        licks = runmodel(PP, lam, nruns)\n",
    "\n",
    "    try:\n",
    "        test1_data_NR.keys()\n",
    "    except NameError:\n",
    "        print('Data not loaded from file so cannot show keys')\n",
    "\n",
    "    lickdata = analyse_licks(licks, histbins)"
   ]
  },
  {
   "cell_type": "code",
   "execution_count": 9,
   "metadata": {
    "scrolled": true
   },
   "outputs": [],
   "source": [
    "# Plots fitted data\n",
    "\n",
    "if run_notebook and fit_data:\n",
    "    nruns = len(licks)\n",
    "    fitted = fit(lickdata, boundbins, histbins, nruns=nruns, fittype='cumsums')\n",
    "\n",
    "    gridscores = fitted['grid']\n",
    "\n",
    "    pp_matrix = np.arange(bounds['PP'][0], bounds['PP'][1], bounds['PP'][1]/bounds['PP'][2])\n",
    "    lam_matrix = np.arange(bounds['lam'][0], bounds['lam'][1], bounds['lam'][1]/bounds['lam'][2])\n",
    "\n",
    "    pp_vals = [\"{:.1f}\".format(x) for x in pp_matrix]\n",
    "    lam_vals = [\"{:.1f}\".format(x) for x in lam_matrix]\n",
    "\n",
    "    import seaborn as sns; sns.set()\n",
    "    ax = sns.heatmap(np.log(gridscores), cbar=False, xticklabels=lam_vals, yticklabels=pp_vals)\n",
    "    ax.set_xlabel('lam')\n",
    "    ax.set_ylabel('PP')\n",
    "\n",
    "    f, ax = plt.subplots(ncols=2)\n",
    "    ax[0].plot(fitted['pp_marglik'])\n",
    "    ax[1].plot(fitted['lam_marglik'])\n",
    "\n",
    "    print('Estimated PP=', fitted['pp_EV'], ' and estimated lambda=', fitted['lam_EV'], ' using EV')\n",
    "    print('Estimated PP=', fitted['pp_ML'], ' and estimated lambda=', fitted['lam_ML'], ' using ML')"
   ]
  },
  {
   "cell_type": "code",
   "execution_count": 10,
   "metadata": {
    "scrolled": true
   },
   "outputs": [],
   "source": [
    "def timecourseFig(lickdata, ax=[]):\n",
    "\n",
    "    x1 = [i for i, x in enumerate(lickdata['licks']) if x == 1]\n",
    "    x2 = [i for i, x in enumerate(lickdata['licks']) if x == 0]\n",
    "\n",
    "    y1 = [1]*len(x1)\n",
    "    y2 = [0]*len(x2)\n",
    "\n",
    "    ax.plot(x1,y1, 'x')\n",
    "    ax.plot(x2,y2, 'x')\n",
    "\n",
    "    # plots real PP\n",
    "    x1=0; x2=len(lickdata['licks']); y=lickdata['realPP']\n",
    "    ax.plot([x1, x2], [y, y], linestyle='dashed')\n",
    "    ax.text(x2,y,'Real PP', va='center' )\n",
    "    \n",
    "    if fit_data:\n",
    "        print('Fitted')\n",
    "        ax.plot(np.arange(0,len(licks)),[fitted['pp_EV']]*len(licks), 'r', linestyle='dashed')\n",
    "\n",
    "    #ax.plot(smooth(licks, 50), 'b')\n",
    "    ax.plot(smooth2(lickdata['licks'], 50), 'r')\n",
    "\n",
    "    ax.set_ylim([-0.1, 1.1])\n",
    "    ax.set_xlabel('Licks')\n",
    "    ax.set_ylabel('PP')\n",
    "    ax.set_yticks([0, 0.5, 1])\n",
    "    ax.set_yticklabels(['Malto', '0.5', 'Casein'])\n",
    "\n",
    "def histoFig(lickdata, smooth=0, ax=[]):\n",
    "    \n",
    "    for index, color in zip([1,0], ['blue', 'orange']):\n",
    "        x = lickdata['hists'][index][1][1:-1]\n",
    "        y = lickdata['hists'][index][0][1:]\n",
    "        \n",
    "        \n",
    "        if smooth > 0:\n",
    "            ax.plot(smooth2(y, smooth))\n",
    "        else:\n",
    "            ax.plot(x,y, c=color)\n",
    "            \n",
    "        ax.set_xlabel('Licks in burst')\n",
    "        ax.set_ylabel('Frequency')\n",
    "        \n",
    "    cas = lickdata['bursts'][1]\n",
    "    malt = lickdata['bursts'][0]\n",
    "    meanCas = 'Casein={:} total bursts\\nwith {:.1f} licks/burst'.format(len(cas), np.mean(cas))\n",
    "    \n",
    "    meanMalto = 'Malto={:} total bursts\\nwith {:.1f} licks/burst'.format(len(malt), np.mean(malt))\n",
    "    ax.text(0.95, 0.95, meanCas+'\\n \\n'+meanMalto,\n",
    "            transform=ax.transAxes, ha='right', va='top')\n",
    "\n",
    "def cumsumFig(lickdata, normed=False, ax=[]):\n",
    "    \n",
    "    if normed:\n",
    "        datatoplot = lickdata['cumsums_norm']\n",
    "        ylabel = 'Normd cum. frequency'\n",
    "    else:\n",
    "        datatoplot = lickdata['cumsums']\n",
    "        ylabel = 'Cumulative frequency'\n",
    "    \n",
    "    for index, color in zip([1,0], ['blue', 'orange']):\n",
    "        ax.plot(datatoplot[index])\n",
    "        \n",
    "    ax.set_xlabel('Licks in burst')\n",
    "    ax.set_ylabel(ylabel)\n",
    "\n",
    "def makeSessionFig(lickdata, ratkey='', savefig=False, savefolder=''):\n",
    "    f = plt.figure(figsize=(12,7))\n",
    "    f.suptitle(ratkey)\n",
    "    gs = gridspec.GridSpec(2, 3, hspace=0.3, wspace=0.3)\n",
    "\n",
    "    ax1 = f.add_subplot(gs[0, :])\n",
    "    timecourseFig(lickdata, ax=ax1)\n",
    "\n",
    "    ax2 = f.add_subplot(gs[1,0])\n",
    "    histoFig(lickdata, ax=ax2)\n",
    "\n",
    "    ax3 = f.add_subplot(gs[1,1])\n",
    "    cumsumFig(lickdata, ax=ax3)\n",
    "    \n",
    "    ax4 = f.add_subplot(gs[1,2])\n",
    "    cumsumFig(lickdata, normed=True, ax=ax4)\n",
    "\n",
    "    if savefig:\n",
    "        f.savefig(savefolder+ratkey+'_sessionfig.png')\n"
   ]
  },
  {
   "cell_type": "code",
   "execution_count": 11,
   "metadata": {},
   "outputs": [],
   "source": [
    "if run_notebook:\n",
    "\n",
    "    makeSessionFig(lickdata, savefig=False)"
   ]
  },
  {
   "cell_type": "code",
   "execution_count": 12,
   "metadata": {},
   "outputs": [],
   "source": [
    "# Cell to extract data from all rat\n",
    "\n",
    "assemble_all_rats=False\n",
    "\n",
    "if assemble_all_rats:\n",
    "    %run extractlicks.ipynb\n",
    "\n",
    "    # Data for NR rats\n",
    "    NRhists_cas = []\n",
    "    NRhists_malt = []\n",
    "    NR_PPs = []\n",
    "\n",
    "    for ratkey in test1_data_NR.keys():\n",
    "        licks = test1_data_NR[ratkey]\n",
    "        lickdata = analyse_licks(licks, histbins)\n",
    "        NRhists_cas.append(lickdata['hists'][1][0])\n",
    "        NRhists_malt.append(lickdata['hists'][0][0])\n",
    "        NR_PPs.append(lickdata['realPP'])\n",
    "\n",
    "        makeSessionFig(lickdata, savefig=True)\n"
   ]
  },
  {
   "cell_type": "code",
   "execution_count": 13,
   "metadata": {},
   "outputs": [],
   "source": [
    "# Data for NR rats\n",
    "\n",
    "if assemble_all_rats:\n",
    "    PRhists_cas = []\n",
    "    PRhists_malt = []\n",
    "    PR_PPs = []\n",
    "\n",
    "    for ratkey in test1_data_PR.keys():\n",
    "        licks = test1_data_PR[ratkey]\n",
    "        lickdata = analyse_licks(licks, histbins)\n",
    "        PRhists_cas.append(lickdata['hists'][1][0])\n",
    "        PRhists_malt.append(lickdata['hists'][0][0])\n",
    "        PR_PPs.append(lickdata['realPP'])\n",
    "\n",
    "        makeSessionFig(lickdata, savefig=True)"
   ]
  },
  {
   "cell_type": "code",
   "execution_count": 14,
   "metadata": {},
   "outputs": [],
   "source": [
    "if assemble_all_rats:\n",
    "\n",
    "    try:\n",
    "        current_palette = sns.color_palette()\n",
    "    except NameError:\n",
    "        current_palette = ['blue', 'orange']\n",
    "\n",
    "    NRhists_cas_avg = np.sum(NRhists_cas, axis=0)\n",
    "    NRhists_malt_avg = np.sum(NRhists_malt, axis=0)\n",
    "\n",
    "    f, ax = plt.subplots(nrows=2)\n",
    "    ax[0].plot(NRhists_cas_avg)\n",
    "    ax[0].plot(NRhists_malt_avg)\n",
    "\n",
    "    ax[0].set_xlabel('Licks in burst')\n",
    "    ax[0].set_ylabel('Frequency')\n",
    "    ax[0].text(0.9, 0.9, 'Casein', color=current_palette[1], transform=ax[0].transAxes, ha='right', va='top')\n",
    "    ax[0].text(0.9, 0.8, 'Maltodextrin', color=current_palette[0], transform=ax[0].transAxes, ha='right', va='top')\n",
    "\n",
    "    savefolder = 'C:\\\\Users\\\\James Rig\\\\Dropbox\\\\AbstractsAndTalks\\\\2019-06-12_MOAB Lick microstructure\\\\figs\\\\'\n",
    "    f.savefig(savefolder+'allNR_hist.png')\n"
   ]
  },
  {
   "cell_type": "code",
   "execution_count": 15,
   "metadata": {},
   "outputs": [],
   "source": [
    "if assemble_all_rats:\n",
    "\n",
    "    histbins = lickdata['hists'][1][1]\n",
    "\n",
    "    NRhists_cas_avg_product = [x*n for x,n in zip(NRhists_cas_avg[1:], histbins[1:])]\n",
    "\n",
    "    plt.plot(NRhists_cas_avg_product)"
   ]
  },
  {
   "cell_type": "code",
   "execution_count": 16,
   "metadata": {
    "scrolled": true
   },
   "outputs": [
    {
     "name": "stdout",
     "output_type": "stream",
     "text": [
      "30 30\n"
     ]
    },
    {
     "data": {
      "text/plain": [
       "[<matplotlib.lines.Line2D at 0xa8feba8>]"
      ]
     },
     "execution_count": 16,
     "metadata": {},
     "output_type": "execute_result"
    },
    {
     "data": {
      "image/png": "[encoded data removed]",
      "text/plain": [
       "<Figure size 432x288 with 1 Axes>"
      ]
     },
     "metadata": {
      "needs_background": "light"
     },
     "output_type": "display_data"
    }
   ],
   "source": [
    "aaa = [10,5,2,1]\n",
    "bbb = [1,1,1,6]\n",
    "\n",
    "xxx = [1,2,3,4]\n",
    "aaaN = sum([a*x for a,x in zip(aaa,xxx)])\n",
    "bbbN = sum([b*x for b,x in zip(bbb,xxx)])\n",
    "\n",
    "print(aaaN, bbbN)\n",
    "\n",
    "aaaCS = np.cumsum(aaa)\n",
    "bbbCS = np.cumsum(bbb)\n",
    "\n",
    "ppp=0.2\n",
    "\n",
    "aaaCS_norm = [x/aaaCS[-1]*ppp for x in aaaCS]\n",
    "bbbCS_norm = [x/bbbCS[-1]*(1-ppp) for x in bbbCS]\n",
    "\n",
    "f, ax = plt.subplots()\n",
    "ax.plot(xxx,aaaCS_norm)\n",
    "ax.plot(xxx,bbbCS_norm)"
   ]
  },
  {
   "cell_type": "code",
   "execution_count": 17,
   "metadata": {},
   "outputs": [
    {
     "data": {
      "text/plain": [
       "<matplotlib.legend.Legend at 0xb91b438>"
      ]
     },
     "execution_count": 17,
     "metadata": {},
     "output_type": "execute_result"
    },
    {
     "data": {
      "image/png": "[encoded data removed]",
      "text/plain": [
       "<Figure size 432x288 with 1 Axes>"
      ]
     },
     "metadata": {
      "needs_background": "light"
     },
     "output_type": "display_data"
    }
   ],
   "source": [
    "f, ax = plt.subplots()\n",
    "\n",
    "lick_array = np.arange(0,100)\n",
    "lam_array = [1, 3, 8, 15, 30, 60]\n",
    "output_array = []\n",
    "\n",
    "for lam in lam_array:\n",
    "    output_array.append([math.exp(-x*(1/lam)) for x in lick_array])\n",
    "\n",
    "for lam, y in zip(lam_array, output_array):\n",
    "    ax.plot(lick_array, y)\n",
    "\n",
    "ax.set_ylabel('Probability of continuing to lick')\n",
    "ax.set_xlabel('Number of licks in burst (L)')\n",
    "    \n",
    "legend_array = ['lam='+str(lam) for lam in lam_array]\n",
    "ax.legend(legend_array)\n",
    "\n",
    "# f.savefig(savefolder+'exponential_decay.png')"
   ]
  },
  {
   "cell_type": "code",
   "execution_count": 35,
   "metadata": {},
   "outputs": [
    {
     "data": {
      "image/png": "[encoded data removed]",
      "text/plain": [
       "<Figure size 432x288 with 1 Axes>"
      ]
     },
     "metadata": {
      "needs_background": "light"
     },
     "output_type": "display_data"
    }
   ],
   "source": [
    "# To plot log-normal distribution\n",
    "f, ax = plt.subplots()\n",
    "\n",
    "x_array = np.linspace(0, 100, 1000)\n",
    "\n",
    "alpha = 40\n",
    "s=1\n",
    "dist = lognorm(s, loc=0)\n",
    "\n",
    "y = [dist.pdf(x/alpha+0)+0 for x in x_array]\n",
    "\n",
    "ax.plot(x_array,y)\n",
    "ax.set_xlim([0,100])\n",
    "ax.set_ylim([0, 1])\n",
    "\n",
    "ax.set_ylabel('Probability of continuing to lick')\n",
    "ax.set_xlabel('Number of licks in burst (L)')\n",
    "\n",
    "f.savefig(savefolder+'lognormal.png')"
   ]
  },
  {
   "cell_type": "code",
   "execution_count": 19,
   "metadata": {},
   "outputs": [
    {
     "data": {
      "text/plain": [
       "[]"
      ]
     },
     "execution_count": 19,
     "metadata": {},
     "output_type": "execute_result"
    }
   ],
   "source": [
    "%who_ls dict"
   ]
  },
  {
   "cell_type": "code",
   "execution_count": 20,
   "metadata": {},
   "outputs": [],
   "source": [
    "def violinburstFig(lickdata, ax=[]):\n",
    "    #current_palette = sns.color_palette()\n",
    "    current_palette = ['blue', 'orange']\n",
    "    \n",
    "    casbursts = lickdata['bursts'][1][1:]\n",
    "    maltbursts = [x*-1 for x in lickdata['bursts'][0][1:]]\n",
    "    \n",
    "    f, ax = plt.subplots(nrows=2, sharex=True)\n",
    "    ax[0].plot(casbursts, color=current_palette[0])\n",
    "    ax[1].plot(maltbursts, color=current_palette[1])\n",
    "    \n",
    "    f2, ax = plt.subplots(nrows=2, figsize=(15,4), sharex=True)\n",
    "    ax[0].bar(np.arange(len(casbursts)), casbursts, color=current_palette[0])\n",
    "    ax[1].bar(np.arange(len(maltbursts)),maltbursts, color=current_palette[1])\n",
    "    \n",
    "    #calculate \n",
    "if run_notebook:\n",
    "    violinburstFig(lickdata)"
   ]
  },
  {
   "cell_type": "code",
   "execution_count": 21,
   "metadata": {},
   "outputs": [
    {
     "data": {
      "image/png": "[encoded data removed]",
      "text/plain": [
       "<Figure size 648x288 with 2 Axes>"
      ]
     },
     "metadata": {
      "needs_background": "light"
     },
     "output_type": "display_data"
    }
   ],
   "source": [
    "# Code to run simulations with different PP values\n",
    "\n",
    "histbins = np.arange(0,100)\n",
    "\n",
    "PP_array = np.arange(0.05,1,0.05)\n",
    "lam = 15\n",
    "\n",
    "realPP_array = []\n",
    "casbursts_array = []\n",
    "maltbursts_array = []\n",
    "\n",
    "for PP in PP_array: \n",
    "    # ratkey = 'simulated_PP={0}_lambda={1}'.format(PP,lam)\n",
    "    licks = runmodel(PP, lam, 5000)\n",
    "    lickdata = analyse_licks(licks, histbins)\n",
    "    \n",
    "    realPP_array.append(lickdata['realPP'])\n",
    "    \n",
    "    casbursts_array.append(np.mean(lickdata['bursts'][1]))\n",
    "    maltbursts_array.append(np.mean(lickdata['bursts'][0]))\n",
    "    \n",
    "f, ax = plt.subplots(figsize=(9,4), ncols=2)\n",
    "f.subplots_adjust(wspace=0.4)\n",
    "f.suptitle('Effect of different simulated PP values')\n",
    "\n",
    "ax[0].plot(PP_array, realPP_array, 'o', color='green')\n",
    "\n",
    "ax[1].plot(PP_array, casbursts_array, 'o', color='orange')\n",
    "ax[1].plot(PP_array, maltbursts_array, 'o', color='blue')\n",
    "\n",
    "for axis in [ax[0], ax[1]]:\n",
    "    axis.set_xlabel('Simulated PP')\n",
    "    axis.set_xticks([0, 0.2, 0.4, 0.6, 0.8, 1])\n",
    "    \n",
    "ax[0].set_ylabel('Calculated PP')\n",
    "ax[0].set_yticks([0, 0.2, 0.4, 0.6, 0.8, 1])\n",
    "\n",
    "ax[1].set_ylabel('Mean licks/burst')\n",
    "ax[1].set_yticks([0, 2, 4, 6])\n",
    "ax[1].text(0.1, 0.15, 'Casein', color='blue', transform=ax[1].transAxes, ha='left', va='top')\n",
    "ax[1].text(0.1, 0.1, 'Maltodextrin', color='orange', transform=ax[1].transAxes, ha='left', va='top')\n",
    "\n",
    "savefolder = 'C:\\\\Users\\\\James Rig\\\\Dropbox\\\\AbstractsAndTalks\\\\2019-06-12_MOAB Lick microstructure\\\\figs\\\\'\n",
    "f.savefig(savefolder+'sim_PPvals.png')\n",
    "\n"
   ]
  },
  {
   "cell_type": "code",
   "execution_count": 22,
   "metadata": {},
   "outputs": [
    {
     "data": {
      "image/png": "[encoded data removed]",
      "text/plain": [
       "<Figure size 648x288 with 2 Axes>"
      ]
     },
     "metadata": {
      "needs_background": "light"
     },
     "output_type": "display_data"
    }
   ],
   "source": [
    "# Code to run simulations with different lambda values\n",
    "\n",
    "histbins = np.arange(0,100)\n",
    "\n",
    "lam_array = np.arange(1,60,3)\n",
    "PP = 0.5\n",
    "\n",
    "realPP_array = []\n",
    "casbursts_array = []\n",
    "maltbursts_array = []\n",
    "\n",
    "for lam in lam_array: \n",
    "    # ratkey = 'simulated_PP={0}_lambda={1}'.format(PP,lam)\n",
    "    licks = runmodel(PP, lam, 5000)\n",
    "    lickdata = analyse_licks(licks, histbins)\n",
    "    \n",
    "    realPP_array.append(lickdata['realPP'])\n",
    "    \n",
    "    casbursts_array.append(np.mean(lickdata['bursts'][1]))\n",
    "    maltbursts_array.append(np.mean(lickdata['bursts'][0]))\n",
    "    \n",
    "f, ax = plt.subplots(figsize=(9,4), ncols=2)\n",
    "f.subplots_adjust(wspace=0.4)\n",
    "f.suptitle('Effect of different simulated lambda values')\n",
    "\n",
    "ax[0].plot(lam_array, realPP_array, 'o', color='green')\n",
    "\n",
    "ax[1].plot(lam_array, casbursts_array, 'o', color='orange')\n",
    "ax[1].plot(lam_array, maltbursts_array, 'o', color='blue')\n",
    "\n",
    "for axis in [ax[0], ax[1]]:\n",
    "    axis.set_xlabel('Simulated lambda')\n",
    "    axis.set_xticks([0, 10, 20, 30, 40, 50, 60])\n",
    "    \n",
    "ax[0].set_ylabel('Calculated PP')\n",
    "ax[0].set_yticks([0, 0.2, 0.4, 0.6, 0.8, 1])\n",
    "\n",
    "ax[1].set_ylabel('Mean licks/burst')\n",
    "ax[1].set_yticks([0, 2, 4, 6, 8, 10])\n",
    "ax[1].text(0.1, 0.15, 'Casein', color='orange', transform=ax[1].transAxes, ha='left', va='top')\n",
    "ax[1].text(0.1, 0.1, 'Maltodextrin', color='blue', transform=ax[1].transAxes, ha='left', va='top')\n",
    "\n",
    "savefolder = 'C:\\\\Users\\\\James Rig\\\\Dropbox\\\\AbstractsAndTalks\\\\2019-06-12_MOAB Lick microstructure\\\\figs\\\\'\n",
    "f.savefig(savefolder+'sim_lam_vals.png')"
   ]
  },
  {
   "cell_type": "code",
   "execution_count": null,
   "metadata": {},
   "outputs": [],
   "source": []
  }
 ],
 "metadata": {
  "kernelspec": {
   "display_name": "Python 3",
   "language": "python",
   "name": "python3"
  },
  "language_info": {
   "codemirror_mode": {
    "name": "ipython",
    "version": 3
   },
   "file_extension": ".py",
   "mimetype": "text/x-python",
   "name": "python",
   "nbconvert_exporter": "python",
   "pygments_lexer": "ipython3",
   "version": "3.7.3"
  }
 },
 "nbformat": 4,
 "nbformat_minor": 2
}
