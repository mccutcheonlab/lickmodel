{
 "cells": [
  {
   "cell_type": "markdown",
   "metadata": {},
   "source": [
    "# Lick model"
   ]
  },
  {
   "cell_type": "markdown",
   "metadata": {},
   "source": [
    "### This notebook is an initial attempt to model trains of licks when rats are choosing between two solutions (e.g. protein and carbohydrate)"
   ]
  },
  {
   "cell_type": "code",
   "execution_count": 34,
   "metadata": {},
   "outputs": [],
   "source": [
    "import random\n",
    "import numpy as np\n",
    "import math\n",
    "import matplotlib.pyplot as plt\n",
    "import matplotlib.gridspec as gridspec\n",
    "\n",
    "%matplotlib inline\n",
    "%run helperfx"
   ]
  },
  {
   "cell_type": "code",
   "execution_count": 35,
   "metadata": {},
   "outputs": [],
   "source": [
    "use_real_data = False\n",
    "simulate_data = True\n",
    "fit_data = False\n",
    "\n",
    "# set parameters for simulated data\n",
    "PP = 0.5\n",
    "tau = 10\n",
    "\n",
    "# set bounds for fitting data\n",
    "bounds = {'PP':[0, 1, 10], 'tau':[0.5, 20, 10]}\n",
    "\n",
    "\n",
    "if use_real_data and simulate_data:\n",
    "    print('Over-riding simulate_data because use_real_data is selected.')\n",
    "    simulate_data = False"
   ]
  },
  {
   "cell_type": "code",
   "execution_count": 36,
   "metadata": {},
   "outputs": [],
   "source": [
    "# This function will be called when simulating test data and data for performing fits\n",
    "\n",
    "def runmodel(PP, tau, nruns):\n",
    "    \n",
    "    # Create system with vars of interest\n",
    "    System = {}\n",
    "    System['PP'] = PP\n",
    "    System['tau'] = tau\n",
    "    System['licksinburst'] = 0\n",
    "    \n",
    "    # Initializes array for storing data\n",
    "    output = [0.5]\n",
    "\n",
    "    for i in range(1, nruns):\n",
    "        update_func(System, output)\n",
    "\n",
    "    # print(np.mean([x-1 for x in licks if x>0]))\n",
    "    \n",
    "    return output"
   ]
  },
  {
   "cell_type": "code",
   "execution_count": 37,
   "metadata": {},
   "outputs": [],
   "source": [
    "def update_func(System, licks):\n",
    "    pp = System['PP']\n",
    "    tau = System['tau']\n",
    "    x = System['licksinburst']\n",
    "    \n",
    "    if licks[-1] == 0.5:\n",
    "            if random.random() < pp:\n",
    "                licks.append(1)            \n",
    "            else:\n",
    "                licks.append(0)\n",
    "            System['licksinburst'] = x+1\n",
    "    else:\n",
    "        p_cont = math.exp(-x*(1/tau))\n",
    "        if random.random() < p_cont:           \n",
    "            licks.append(licks[-1])\n",
    "            System['licksinburst'] = x+1\n",
    "        else:\n",
    "            licks.append(0.5)\n",
    "            System['licksinburst'] = 0          "
   ]
  },
  {
   "cell_type": "code",
   "execution_count": 39,
   "metadata": {},
   "outputs": [],
   "source": [
    "def fit_data(lickdata, bounds, bins, nruns=1000):\n",
    "    print('Fitting data using bounds provided.')\n",
    "    \n",
    "    data = lickdata['hists'][0][0]\n",
    "    \n",
    "    nPP = bounds['PP'][2]\n",
    "    ntau = bounds['tau'][2]\n",
    "    \n",
    "    grid = np.empty((nPP,ntau,))\n",
    "    \n",
    "    pp_matrix = np.arange(bounds['PP'][0], bounds['PP'][1], bounds['PP'][1]/bounds['PP'][2])\n",
    "    tau_matrix = np.arange(bounds['tau'][0], bounds['tau'][1], bounds['tau'][1]/bounds['tau'][2])\n",
    "\n",
    "    print(tau_matrix)\n",
    "    \n",
    "    for pp_idx, pp in enumerate(pp_matrix):\n",
    "        for tau_idx, tau in enumerate(tau_matrix):\n",
    "            comparison_data = runmodel(pp, tau, nruns)\n",
    "            licks_to_fit = analyse_licks(comparison_data, bins)\n",
    "            \n",
    "            #work out loglik for hist bins using compare function and place this value in the grid\n",
    "            \n",
    "            comp = licks_to_fit['hists'][0][0]\n",
    "            \n",
    "            diffs = [np.abs(x-y) for x,y in zip(data, comp)]\n",
    "            \n",
    "            grid[pp_idx, tau_idx] = sum(diffs)\n",
    "            \n",
    "    return grid"
   ]
  },
  {
   "cell_type": "code",
   "execution_count": 40,
   "metadata": {},
   "outputs": [
    {
     "name": "stdout",
     "output_type": "stream",
     "text": [
      "Simulating data with values: PP...\n"
     ]
    }
   ],
   "source": [
    "# Code to get data to be tested - either real or simulated    \n",
    "    \n",
    "# in future this will allow one to select subjects and experiments by including arguments for medfile location etc    \n",
    "if use_real_data:\n",
    "    %run extractlicks.ipynb\n",
    "    licks = test1_data_NR['IPP3.2']\n",
    "\n",
    "if simulate_data:\n",
    "    print('Simulating data with values: PP...')\n",
    "    licks = runmodel(PP, tau, 1000)"
   ]
  },
  {
   "cell_type": "code",
   "execution_count": 41,
   "metadata": {},
   "outputs": [],
   "source": [
    "def analyse_licks(data, bins):\n",
    "    \n",
    "    burstarray = []\n",
    "    tmp = []\n",
    "    for i, x in enumerate(data):\n",
    "        if x == 0.5:\n",
    "            burstarray.append(tmp)\n",
    "            tmp = []\n",
    "        else:\n",
    "            tmp.append(x)\n",
    "    \n",
    "    bursts = []\n",
    "    hists = []\n",
    "    cumsums = []\n",
    "    \n",
    "    for code in [0, 1]: \n",
    "        b = [len(x) for x in burstarray[1:] if x[0]==code]\n",
    "        h = np.histogram(b, bins=bins) # add binsize\n",
    "        cs = np.cumsum(h[0])\n",
    "        \n",
    "        bursts.append(b)\n",
    "        hists.append(h)\n",
    "        cumsums.append(cs)\n",
    "    \n",
    "    return ({'licks':data, 'bursts':bursts, 'hists':hists, 'cumsums':cumsums})"
   ]
  },
  {
   "cell_type": "code",
   "execution_count": 42,
   "metadata": {},
   "outputs": [],
   "source": [
    "bins = np.arange(0,100)\n",
    "lickdata = analyse_licks(licks, bins)"
   ]
  },
  {
   "cell_type": "code",
   "execution_count": 43,
   "metadata": {
    "scrolled": true
   },
   "outputs": [
    {
     "name": "stdout",
     "output_type": "stream",
     "text": [
      "Fitting data using bounds provided.\n",
      "[ 0.5  2.5  4.5  6.5  8.5 10.5 12.5 14.5 16.5 18.5]\n"
     ]
    },
    {
     "data": {
      "text/plain": [
       "array([[523., 286., 210., 141., 115.,  96.,  89.,  79.,  79.,  67.],\n",
       "       [473., 267., 171., 122., 103.,  72.,  66.,  59.,  50.,  70.],\n",
       "       [430., 243., 144., 111.,  77.,  46.,  47.,  46.,  38.,  49.],\n",
       "       [369., 224., 127.,  76.,  48.,  31.,  37.,  36.,  43.,  31.],\n",
       "       [319., 183., 122.,  74.,  36.,  38.,  25.,  37.,  43.,  43.],\n",
       "       [272., 150.,  78.,  61.,  39.,  16.,  36.,  61.,  43.,  45.],\n",
       "       [221., 112.,  72.,  46.,  37.,  32.,  32.,  51.,  47.,  51.],\n",
       "       [179., 112.,  58.,  46.,  32.,  50.,  49.,  57.,  48.,  66.],\n",
       "       [133.,  97.,  56.,  51.,  49.,  61.,  71.,  72.,  75.,  84.],\n",
       "       [122.,  76.,  76.,  84.,  85.,  74.,  86.,  88.,  92.,  85.]])"
      ]
     },
     "execution_count": 43,
     "metadata": {},
     "output_type": "execute_result"
    }
   ],
   "source": [
    "gridscores = fit_data(lickdata, bounds, bins)\n",
    "\n",
    "gridscores"
   ]
  },
  {
   "cell_type": "code",
   "execution_count": 34,
   "metadata": {},
   "outputs": [
    {
     "data": {
      "text/plain": [
       "612"
      ]
     },
     "execution_count": 34,
     "metadata": {},
     "output_type": "execute_result"
    },
    {
     "data": {
      "image/png": "[encoded data removed]",
      "text/plain": [
       "<Figure size 1080x360 with 2 Axes>"
      ]
     },
     "metadata": {
      "needs_background": "light"
     },
     "output_type": "display_data"
    }
   ],
   "source": [
    "f, ax = plt.subplots(figsize=(15,5), ncols=2)\n",
    "\n",
    "x1 = [i for i, x in enumerate(licks) if x == 1]\n",
    "x2 = [i for i, x in enumerate(licks) if x == 0]\n",
    "\n",
    "y1 = [1]*len(x1)\n",
    "y2 = [0]*len(x2)\n",
    "\n",
    "ax[0].plot(x1,y1, 'x')\n",
    "ax[0].plot(x2,y2, 'x')\n",
    "try:\n",
    "    ax[0].plot(np.arange(0,len(licks)),[PP]*len(licks), 'g', linestyle='dashed')\n",
    "except:\n",
    "    pass\n",
    "\n",
    "ax[0].plot(smooth(licks, 50), 'b')\n",
    "ax[0].plot(smooth2(licks, 50), 'r')\n",
    "\n",
    "ax[0].set_ylim([-0.1, 1.1])\n",
    "\n",
    "\n",
    "bins = np.arange(1,20)\n",
    "ax[1].plot(lickdict['cumsums'][0])\n",
    "ax[1].plot(lickdict['cumsums'][1])\n",
    "ax[1].set_xticks([0, 5, 10, 15])\n",
    "ax[1].set_xscale('log')\n",
    "len(x2)"
   ]
  },
  {
   "cell_type": "code",
   "execution_count": 9,
   "metadata": {},
   "outputs": [
    {
     "data": {
      "text/plain": [
       "[<matplotlib.lines.Line2D at 0x9836278>]"
      ]
     },
     "execution_count": 9,
     "metadata": {},
     "output_type": "execute_result"
    },
    {
     "data": {
      "image/png": "[encoded data removed]",
      "text/plain": [
       "<Figure size 432x288 with 1 Axes>"
      ]
     },
     "metadata": {
      "needs_background": "light"
     },
     "output_type": "display_data"
    }
   ],
   "source": [
    "f, ax = plt.subplots()\n",
    "\n",
    "lick_array = np.arange(0,10)\n",
    "k=3\n",
    "next_lick_p = [math.exp(-x*(1/k)) for x in lick_array]\n",
    "\n",
    "ax.plot(lick_array, next_lick_p)\n",
    "\n"
   ]
  },
  {
   "cell_type": "code",
   "execution_count": 11,
   "metadata": {},
   "outputs": [
    {
     "data": {
      "text/plain": [
       "['lickdict', 'test1_data_NR', 'test1_data_PR']"
      ]
     },
     "execution_count": 11,
     "metadata": {},
     "output_type": "execute_result"
    }
   ],
   "source": [
    "%who_ls dict"
   ]
  },
  {
   "cell_type": "code",
   "execution_count": null,
   "metadata": {},
   "outputs": [],
   "source": []
  }
 ],
 "metadata": {
  "kernelspec": {
   "display_name": "Python 3",
   "language": "python",
   "name": "python3"
  },
  "language_info": {
   "codemirror_mode": {
    "name": "ipython",
    "version": 3
   },
   "file_extension": ".py",
   "mimetype": "text/x-python",
   "name": "python",
   "nbconvert_exporter": "python",
   "pygments_lexer": "ipython3",
   "version": "3.7.3"
  }
 },
 "nbformat": 4,
 "nbformat_minor": 2
}
