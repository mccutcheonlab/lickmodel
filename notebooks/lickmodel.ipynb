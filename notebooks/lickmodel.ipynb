{
 "cells": [
  {
   "cell_type": "markdown",
   "metadata": {},
   "source": [
    "# Lick model"
   ]
  },
  {
   "cell_type": "markdown",
   "metadata": {},
   "source": [
    "### This notebook is an initial attempt to model trains of licks when rats are choosing between two solutions (e.g. protein and carbohydrate)"
   ]
  },
  {
   "cell_type": "code",
   "execution_count": 35,
   "metadata": {},
   "outputs": [],
   "source": [
    "import random\n",
    "import numpy as np\n",
    "import math\n",
    "import matplotlib.pyplot as plt\n",
    "import matplotlib.gridspec as gridspec\n",
    "\n",
    "%matplotlib inline\n",
    "\n",
    "# Run notebook that extracts data from medfiles\n",
    "%run extractlicks.ipynb"
   ]
  },
  {
   "cell_type": "code",
   "execution_count": 218,
   "metadata": {
    "collapsed": true
   },
   "outputs": [],
   "source": [
    "# Initializes the system and system variables\n",
    "\n",
    "System = {}\n",
    "System['PP'] = 0.75\n",
    "System['tau'] = 10\n",
    "System['licksinburst'] = 0"
   ]
  },
  {
   "cell_type": "code",
   "execution_count": 219,
   "metadata": {
    "collapsed": true
   },
   "outputs": [],
   "source": [
    "def update_func(System, licks):\n",
    "    pp = System['PP']\n",
    "    tau = System['tau']\n",
    "    x = System['licksinburst']\n",
    "    \n",
    "    if licks[-1] == 0:\n",
    "            if random.random() < pp:\n",
    "                licks.append(2)            \n",
    "            else:\n",
    "                licks.append(1)\n",
    "            System['licksinburst'] = x+1\n",
    "    else:\n",
    "        p_cont = math.exp(-x*(1/tau))\n",
    "        if random.random() < p_cont:           \n",
    "            licks.append(licks[-1])\n",
    "            System['licksinburst'] = x+1\n",
    "        else:\n",
    "            licks.append(0)\n",
    "            System['licksinburst'] = 0  \n",
    "            "
   ]
  },
  {
   "cell_type": "code",
   "execution_count": 220,
   "metadata": {},
   "outputs": [
    {
     "name": "stdout",
     "output_type": "stream",
     "text": [
      "0.7478152309612984\n"
     ]
    }
   ],
   "source": [
    "# Initializes the arrays to store data\n",
    "\n",
    "licks = [0]\n",
    "\n",
    "for i in range(1, 1000):\n",
    "    update_func(System, licks)\n",
    "    # print(x, licks)\n",
    "\n",
    "# print(licks)\n",
    "print(np.mean([x-1 for x in licks if x>0]))"
   ]
  },
  {
   "cell_type": "code",
   "execution_count": 10,
   "metadata": {},
   "outputs": [],
   "source": [
    "licks = test1_data_NR['IPP3.2']"
   ]
  },
  {
   "cell_type": "code",
   "execution_count": 25,
   "metadata": {},
   "outputs": [],
   "source": [
    "# Create running average\n",
    "\n",
    "N = 12\n",
    "cumsum, licks_smooth = [0], []\n",
    "\n",
    "for i, x in enumerate(licks, 1):\n",
    "    cumsum.append(cumsum[i-1] + x)\n",
    "    if i>=N:\n",
    "        moving_ave = (cumsum[i] - cumsum[i-N])/N\n",
    "        #can do stuff with moving_ave here\n",
    "        licks_smooth.append(moving_ave)\n",
    "        "
   ]
  },
  {
   "cell_type": "code",
   "execution_count": 11,
   "metadata": {},
   "outputs": [],
   "source": [
    "# Code to calculate burst data\n",
    "burstarray = []\n",
    "\n",
    "tmp = []\n",
    "for i, x in enumerate(licks):\n",
    "    if x == 0:\n",
    "        burstarray.append(tmp)\n",
    "        tmp = []\n",
    "    else:\n",
    "        tmp.append(x)\n",
    "        \n",
    "\n",
    "burstlength1 = [len(x) for x in burstarray[1:] if x[0]==1]\n",
    "burstlength2 = [len(x) for x in burstarray[1:] if x[0]==2]"
   ]
  },
  {
   "cell_type": "code",
   "execution_count": 32,
   "metadata": {},
   "outputs": [
    {
     "data": {
      "text/plain": [
       "[<matplotlib.lines.Line2D at 0xb036be0>]"
      ]
     },
     "execution_count": 32,
     "metadata": {},
     "output_type": "execute_result"
    },
    {
     "data": {
      "image/png": "[encoded data removed]",
      "text/plain": [
       "<Figure size 432x288 with 1 Axes>"
      ]
     },
     "metadata": {
      "needs_background": "light"
     },
     "output_type": "display_data"
    }
   ],
   "source": [
    "\n",
    "only_licks = [x for x in licks if x > 0]\n",
    "window = 50\n",
    "avg_mask = np.ones(window) / window\n",
    "y_avg = np.convolve(only_licks, avg_mask, 'same')\n",
    "len(only_licks)\n",
    "\n",
    "plt.plot(y_avg)"
   ]
  },
  {
   "cell_type": "code",
   "execution_count": 33,
   "metadata": {},
   "outputs": [
    {
     "data": {
      "text/plain": [
       "[<matplotlib.axis.XTick at 0x923cda0>,\n",
       " <matplotlib.axis.XTick at 0x923c390>,\n",
       " <matplotlib.axis.XTick at 0x923ca58>,\n",
       " <matplotlib.axis.XTick at 0x9552390>]"
      ]
     },
     "execution_count": 33,
     "metadata": {},
     "output_type": "execute_result"
    },
    {
     "data": {
      "image/png": "[encoded data removed]",
      "text/plain": [
       "<Figure size 1080x360 with 2 Axes>"
      ]
     },
     "metadata": {
      "needs_background": "light"
     },
     "output_type": "display_data"
    }
   ],
   "source": [
    "f, ax = plt.subplots(figsize=(15,5), ncols=2)\n",
    "\n",
    "x1 = [i for i, x in enumerate(licks) if x == 1]\n",
    "x2 = [i for i, x in enumerate(licks) if x == 2]\n",
    "\n",
    "y1 = [1]*len(x1)\n",
    "y2 = [0]*len(x2)\n",
    "\n",
    "ax[0].plot(x1,y1, 'x')\n",
    "ax[0].plot(x2,y2, 'x')\n",
    "ax[0].plot(np.arange(0,len(licks)),[System['PP']]*len(licks), 'g', linestyle='dashed')\n",
    "\n",
    "\n",
    "bins = np.arange(1,20)\n",
    "ax[1].hist(burstlength1, bins=bins, histtype='step')\n",
    "ax[1].hist(burstlength2, bins=bins, histtype='step')\n",
    "ax[1].set_xticks([0, 5, 10, 15])\n"
   ]
  },
  {
   "cell_type": "code",
   "execution_count": 68,
   "metadata": {},
   "outputs": [
    {
     "name": "stdout",
     "output_type": "stream",
     "text": [
      "AxesSubplot(0.125,0.125;0.775x0.755)\n"
     ]
    },
    {
     "data": {
      "text/plain": [
       "[<matplotlib.lines.Line2D at 0x8f32828>]"
      ]
     },
     "execution_count": 68,
     "metadata": {},
     "output_type": "execute_result"
    },
    {
     "data": {
      "image/png": "[encoded data removed]",
      "text/plain": [
       "<Figure size 432x288 with 1 Axes>"
      ]
     },
     "metadata": {
      "needs_background": "light"
     },
     "output_type": "display_data"
    }
   ],
   "source": [
    "f, ax = plt.subplots()\n",
    "\n",
    "lick_array = np.arange(0,10)\n",
    "k=3\n",
    "next_lick_p = [math.exp(-x*(1/k)) for x in lick_array]\n",
    "\n",
    "ax.plot(lick_array, next_lick_p)\n",
    "\n"
   ]
  },
  {
   "cell_type": "code",
   "execution_count": 1,
   "metadata": {},
   "outputs": [
    {
     "data": {
      "text/plain": [
       "[]"
      ]
     },
     "execution_count": 1,
     "metadata": {},
     "output_type": "execute_result"
    }
   ],
   "source": [
    "%who_ls\n"
   ]
  },
  {
   "cell_type": "code",
   "execution_count": 5,
   "metadata": {},
   "outputs": [
    {
     "name": "stdout",
     "output_type": "stream",
     "text": [
      "[0 1 1 ... 1 1 1]\n",
      "4775\n",
      "[0 2 2 ... 2 2 2]\n",
      "4638\n",
      "[0 2 2 ... 1 1 1]\n",
      "1854\n",
      "[0 1 1 ... 1 0 1]\n",
      "1466\n",
      "[0 1 0 ... 1 1 1]\n",
      "513\n",
      "[0 1 1 ... 0 1 1]\n",
      "3015\n"
     ]
    }
   ],
   "source": []
  },
  {
   "cell_type": "code",
   "execution_count": 7,
   "metadata": {},
   "outputs": [
    {
     "data": {
      "text/plain": [
       "['System', 'test1_data_NR', 'test1_data_PR']"
      ]
     },
     "execution_count": 7,
     "metadata": {},
     "output_type": "execute_result"
    }
   ],
   "source": [
    "%who_ls dict"
   ]
  },
  {
   "cell_type": "code",
   "execution_count": null,
   "metadata": {},
   "outputs": [],
   "source": []
  }
 ],
 "metadata": {
  "kernelspec": {
   "display_name": "Python 3",
   "language": "python",
   "name": "python3"
  },
  "language_info": {
   "codemirror_mode": {
    "name": "ipython",
    "version": 3
   },
   "file_extension": ".py",
   "mimetype": "text/x-python",
   "name": "python",
   "nbconvert_exporter": "python",
   "pygments_lexer": "ipython3",
   "version": "3.7.3"
  }
 },
 "nbformat": 4,
 "nbformat_minor": 2
}
