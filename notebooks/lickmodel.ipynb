{
 "cells": [
  {
   "cell_type": "markdown",
   "metadata": {},
   "source": [
    "# Lick model"
   ]
  },
  {
   "cell_type": "markdown",
   "metadata": {},
   "source": [
    "### This notebook is an initial attempt to model trains of licks when rats are choosing between two solutions (e.g. protein and carbohydrate)"
   ]
  },
  {
   "cell_type": "code",
   "execution_count": 4,
   "metadata": {},
   "outputs": [],
   "source": [
    "import random\n",
    "import numpy as np\n",
    "import math\n",
    "import matplotlib.pyplot as plt\n",
    "import matplotlib.gridspec as gridspec\n",
    "\n",
    "%matplotlib inline\n",
    "%run helperfx"
   ]
  },
  {
   "cell_type": "code",
   "execution_count": 5,
   "metadata": {},
   "outputs": [],
   "source": [
    "use_real_data = False\n",
    "simulate_data = True\n",
    "fit_data = False\n",
    "\n",
    "# set parameters for simulated data\n",
    "PP = 0.5\n",
    "tau = 10\n",
    "\n",
    "# set bounds for fitting data\n",
    "bounds = {'PP':[0, 1, 10], 'tau':[0.5, 20, 10]}\n",
    "\n",
    "boundbins = []\n",
    "boundbins.append(np.arange(bounds['PP'][0], bounds['PP'][1], bounds['PP'][1]/bounds['PP'][2]))\n",
    "boundbins.append(np.arange(bounds['tau'][0], bounds['tau'][1], bounds['tau'][1]/bounds['tau'][2]))\n",
    "\n",
    "if use_real_data and simulate_data:\n",
    "    print('Over-riding simulate_data because use_real_data is selected.')\n",
    "    simulate_data = False"
   ]
  },
  {
   "cell_type": "code",
   "execution_count": 6,
   "metadata": {},
   "outputs": [],
   "source": [
    "# This function will be called when simulating test data and data for performing fits\n",
    "\n",
    "def runmodel(PP, tau, nruns):\n",
    "    \n",
    "    # Create system with vars of interest\n",
    "    System = {}\n",
    "    System['PP'] = PP\n",
    "    System['tau'] = tau\n",
    "    System['licksinburst'] = 0\n",
    "    \n",
    "    # Initializes array for storing data\n",
    "    output = [0.5]\n",
    "\n",
    "    for i in range(1, nruns):\n",
    "        update_func(System, output)\n",
    "\n",
    "    # print(np.mean([x-1 for x in licks if x>0]))\n",
    "    \n",
    "    return output"
   ]
  },
  {
   "cell_type": "code",
   "execution_count": 7,
   "metadata": {},
   "outputs": [],
   "source": [
    "def update_func(System, licks):\n",
    "    pp = System['PP']\n",
    "    tau = System['tau']\n",
    "    x = System['licksinburst']\n",
    "    \n",
    "    if licks[-1] == 0.5:\n",
    "            if random.random() < pp:\n",
    "                licks.append(1)            \n",
    "            else:\n",
    "                licks.append(0)\n",
    "            System['licksinburst'] = x+1\n",
    "    else:\n",
    "        p_cont = math.exp(-x*(1/tau))\n",
    "        if random.random() < p_cont:           \n",
    "            licks.append(licks[-1])\n",
    "            System['licksinburst'] = x+1\n",
    "        else:\n",
    "            licks.append(0.5)\n",
    "            System['licksinburst'] = 0          "
   ]
  },
  {
   "cell_type": "code",
   "execution_count": 8,
   "metadata": {},
   "outputs": [
    {
     "ename": "NameError",
     "evalue": "name 'test1_data_NR' is not defined",
     "output_type": "error",
     "traceback": [
      "\u001b[1;31m---------------------------------------------------------------------------\u001b[0m",
      "\u001b[1;31mNameError\u001b[0m                                 Traceback (most recent call last)",
      "\u001b[1;32m<ipython-input-8-5dd24067f041>\u001b[0m in \u001b[0;36m<module>\u001b[1;34m\u001b[0m\n\u001b[1;32m----> 1\u001b[1;33m \u001b[0mtest1_data_NR\u001b[0m\u001b[1;33m.\u001b[0m\u001b[0mkeys\u001b[0m\u001b[1;33m(\u001b[0m\u001b[1;33m)\u001b[0m\u001b[1;33m\u001b[0m\u001b[1;33m\u001b[0m\u001b[0m\n\u001b[0m",
      "\u001b[1;31mNameError\u001b[0m: name 'test1_data_NR' is not defined"
     ]
    }
   ],
   "source": [
    "test1_data_NR.keys()"
   ]
  },
  {
   "cell_type": "code",
   "execution_count": 9,
   "metadata": {},
   "outputs": [
    {
     "name": "stdout",
     "output_type": "stream",
     "text": [
      "Simulating data with values: PP...\n"
     ]
    }
   ],
   "source": [
    "# Code to get data to be tested - either real or simulated    \n",
    "    \n",
    "# in future this will allow one to select subjects and experiments by including arguments for medfile location etc    \n",
    "if use_real_data:\n",
    "    %run extractlicks.ipynb\n",
    "    licks = test1_data_NR['IPP3.5']\n",
    "\n",
    "if simulate_data:\n",
    "    print('Simulating data with values: PP...')\n",
    "    licks = runmodel(PP, tau, 1000)"
   ]
  },
  {
   "cell_type": "code",
   "execution_count": 10,
   "metadata": {},
   "outputs": [],
   "source": [
    "def analyse_licks(data, bins):\n",
    "    \n",
    "    burstarray = []\n",
    "    tmp = []\n",
    "    for i, x in enumerate(data):\n",
    "        if x == 0.5:\n",
    "            burstarray.append(tmp)\n",
    "            tmp = []\n",
    "        else:\n",
    "            tmp.append(x)\n",
    "    \n",
    "    bursts = []\n",
    "    hists = []\n",
    "    cumsums = []\n",
    "    \n",
    "    for code in [0, 1]: \n",
    "        b = [len(x) for x in burstarray[1:] if x[0]==code]\n",
    "        h = np.histogram(b, bins=bins) # add binsize\n",
    "        cs = np.cumsum(h[0])\n",
    "        \n",
    "        bursts.append(b)\n",
    "        hists.append(h)\n",
    "        cumsums.append(cs)\n",
    "    \n",
    "    return ({'licks':data, 'bursts':bursts, 'hists':hists, 'cumsums':cumsums})"
   ]
  },
  {
   "cell_type": "code",
   "execution_count": 11,
   "metadata": {},
   "outputs": [],
   "source": [
    "nruns=5000\n",
    "\n",
    "# licks = runmodel(0.5, 18, nruns)\n",
    "\n",
    "histbins = np.arange(0,100)\n",
    "lickdata = analyse_licks(licks, histbins)"
   ]
  },
  {
   "cell_type": "code",
   "execution_count": 12,
   "metadata": {},
   "outputs": [],
   "source": [
    "def fit_data(lickdata, boundbins, histbins, nruns=1000):\n",
    "    print('Fitting data using bounds provided.')\n",
    "\n",
    "    nPP = bounds['PP'][2]\n",
    "    ntau = bounds['tau'][2]\n",
    "    \n",
    "    grid = np.empty((nPP,ntau,))\n",
    "    \n",
    "    pp_matrix = boundbins[0]\n",
    "    tau_matrix = boundbins[1]\n",
    "    \n",
    "    for pp_idx, pp in enumerate(pp_matrix):\n",
    "        for tau_idx, tau in enumerate(tau_matrix):\n",
    "            comparison_data = runmodel(pp, tau, nruns)\n",
    "            licks_to_fit = analyse_licks(comparison_data, histbins)\n",
    "            \n",
    "            #work out loglik for hist bins using compare function and place this value in the grid\n",
    "            \n",
    "            diffs = []\n",
    "            for bottle in [0, 1]:\n",
    "                data = lickdata['hists'][bottle][0]\n",
    "                comp = licks_to_fit['hists'][bottle][0]         \n",
    "                diffs.append(sum([np.abs(x-y) for x,y in zip(data, comp)]))\n",
    "            \n",
    "            grid[pp_idx, tau_idx] = sum(diffs)\n",
    "    \n",
    "    grid = 1/grid\n",
    "    \n",
    "    tmp = np.sum(grid, axis=1)\n",
    "    pp_marglik = tmp/sum(tmp)\n",
    "    pp_ML = boundbins[0][np.argmax(pp_marglik)]\n",
    "    pp_EV = sum(boundbins[0]*pp_marglik)\n",
    "    \n",
    "    tmp = np.sum(grid, axis=0)\n",
    "    tau_marglik = tmp/sum(tmp)\n",
    "    tau_ML = boundbins[1][np.argmax(tau_marglik)]\n",
    "    tau_EV = sum(boundbins[1]*tau_marglik)\n",
    "    \n",
    "    fitted = {'grid':grid,\n",
    "              'pp_marglik': pp_marglik, 'pp_ML':pp_ML, 'pp_EV':pp_EV,\n",
    "              'tau_marglik': tau_marglik, 'tau_ML':tau_ML, 'tau_EV':tau_EV}\n",
    "    \n",
    "    return fitted"
   ]
  },
  {
   "cell_type": "code",
   "execution_count": 13,
   "metadata": {
    "scrolled": true
   },
   "outputs": [
    {
     "name": "stdout",
     "output_type": "stream",
     "text": [
      "Fitting data using bounds provided.\n"
     ]
    },
    {
     "data": {
      "text/plain": [
       "Text(30.5, 0.5, 'PP')"
      ]
     },
     "execution_count": 13,
     "metadata": {},
     "output_type": "execute_result"
    },
    {
     "data": {
      "image/png": "[encoded data removed]",
      "text/plain": [
       "<Figure size 432x288 with 1 Axes>"
      ]
     },
     "metadata": {},
     "output_type": "display_data"
    }
   ],
   "source": [
    "nruns = len(licks)\n",
    "\n",
    "fitted = fit_data(lickdata, boundbins, histbins, nruns=nruns)\n",
    "\n",
    "gridscores = fitted['grid']\n",
    "\n",
    "#gridscores=new\n",
    "\n",
    "pp_matrix = np.arange(bounds['PP'][0], bounds['PP'][1], bounds['PP'][1]/bounds['PP'][2])\n",
    "tau_matrix = np.arange(bounds['tau'][0], bounds['tau'][1], bounds['tau'][1]/bounds['tau'][2])\n",
    "\n",
    "pp_vals = [\"{:.1f}\".format(x) for x in pp_matrix]\n",
    "tau_vals = [\"{:.1f}\".format(x) for x in tau_matrix]\n",
    "\n",
    "import seaborn as sns; sns.set()\n",
    "ax = sns.heatmap(np.log(gridscores), cbar=False, xticklabels=tau_vals, yticklabels=pp_vals)\n",
    "ax.set_xlabel('tau')\n",
    "ax.set_ylabel('PP')\n"
   ]
  },
  {
   "cell_type": "code",
   "execution_count": 15,
   "metadata": {},
   "outputs": [
    {
     "name": "stdout",
     "output_type": "stream",
     "text": [
      "Estimated PP= 0.4859589383343853  and estimated tau= 10.977034482136773\n"
     ]
    },
    {
     "data": {
      "image/png": "[encoded data removed]",
      "text/plain": [
       "<Figure size 432x288 with 2 Axes>"
      ]
     },
     "metadata": {},
     "output_type": "display_data"
    }
   ],
   "source": [
    "f, ax = plt.subplots(ncols=2)\n",
    "ax[0].plot(fitted['pp_marglik'])\n",
    "ax[1].plot(fitted['tau_marglik'])\n",
    "\n",
    "print('Estimated PP=', fitted['pp_EV'], ' and estimated tau=', fitted['tau_EV'])"
   ]
  },
  {
   "cell_type": "code",
   "execution_count": 16,
   "metadata": {},
   "outputs": [
    {
     "data": {
      "text/plain": [
       "10.977034482136773"
      ]
     },
     "execution_count": 16,
     "metadata": {},
     "output_type": "execute_result"
    }
   ],
   "source": [
    "fitted['tau_EV']"
   ]
  },
  {
   "cell_type": "code",
   "execution_count": null,
   "metadata": {},
   "outputs": [],
   "source": []
  },
  {
   "cell_type": "code",
   "execution_count": 29,
   "metadata": {},
   "outputs": [
    {
     "data": {
      "image/png": "[encoded data removed]",
      "text/plain": [
       "<Figure size 1080x360 with 1 Axes>"
      ]
     },
     "metadata": {},
     "output_type": "display_data"
    }
   ],
   "source": [
    "#f, ax = plt.subplots(figsize=(15,5), ncols=2)\n",
    "\n",
    "def timecourseFig(lickdata, ax=ax):\n",
    "\n",
    "    x1 = [i for i, x in enumerate(lickdata['licks']) if x == 1]\n",
    "    x2 = [i for i, x in enumerate(lickdata['licks']) if x == 0]\n",
    "\n",
    "    y1 = [1]*len(x1)\n",
    "    y2 = [0]*len(x2)\n",
    "\n",
    "    ax.plot(x1,y1, 'x')\n",
    "    ax.plot(x2,y2, 'x')\n",
    "\n",
    "    try:\n",
    "        ax.plot(np.arange(0,len(licks)),[PP]*len(licks), 'g', linestyle='dashed')\n",
    "    except:\n",
    "        pass\n",
    "    \n",
    "    if fit_data:\n",
    "        ax.plot(np.arange(0,len(licks)),[fitted['pp_EV']]*len(licks), 'r', linestyle='dashed')\n",
    "\n",
    "    #ax.plot(smooth(licks, 50), 'b')\n",
    "    ax.plot(smooth2(licks, 50), 'r')\n",
    "\n",
    "    ax.set_ylim([-0.1, 1.1])\n",
    "    ax.set_xlabel('Licks')\n",
    "    ax.set_ylabel('PP')\n",
    "    ax.set_yticks([0, 0.5, 1])\n",
    "    ax.set_yticklabels(['Malto', '0.5', 'Casein'])\n",
    "\n",
    "f = plt.figure(figsize=(15,5))\n",
    "gs = gridspec.GridSpec(1, 3)\n",
    "ax1 = f.add_subplot(gs[0, 0])\n",
    "\n",
    "timecourseFig(lickdata, ax=ax1)\n",
    "\n",
    "\n",
    "    \n",
    "# bins = np.arange(1,20)\n",
    "# ax[1].plot(lickdata['cumsums'][0])\n",
    "# ax[1].plot(lickdata['cumsums'][1])\n",
    "# ax[1].set_xticks([0, 5, 10, 15])\n",
    "# ax[1].set_xscale('log')\n",
    "# #ax[1].set_xticks([0, 5, 10, 15])"
   ]
  },
  {
   "cell_type": "code",
   "execution_count": 9,
   "metadata": {},
   "outputs": [
    {
     "data": {
      "text/plain": [
       "[<matplotlib.lines.Line2D at 0x9836278>]"
      ]
     },
     "execution_count": 9,
     "metadata": {},
     "output_type": "execute_result"
    },
    {
     "data": {
      "image/png": "[encoded data removed]",
      "text/plain": [
       "<Figure size 432x288 with 1 Axes>"
      ]
     },
     "metadata": {
      "needs_background": "light"
     },
     "output_type": "display_data"
    }
   ],
   "source": [
    "f, ax = plt.subplots()\n",
    "\n",
    "lick_array = np.arange(0,10)\n",
    "k=3\n",
    "next_lick_p = [math.exp(-x*(1/k)) for x in lick_array]\n",
    "\n",
    "ax.plot(lick_array, next_lick_p)\n",
    "\n"
   ]
  },
  {
   "cell_type": "code",
   "execution_count": 11,
   "metadata": {},
   "outputs": [
    {
     "data": {
      "text/plain": [
       "['lickdict', 'test1_data_NR', 'test1_data_PR']"
      ]
     },
     "execution_count": 11,
     "metadata": {},
     "output_type": "execute_result"
    }
   ],
   "source": [
    "%who_ls dict"
   ]
  },
  {
   "cell_type": "code",
   "execution_count": null,
   "metadata": {},
   "outputs": [],
   "source": []
  }
 ],
 "metadata": {
  "kernelspec": {
   "display_name": "Python 3",
   "language": "python",
   "name": "python3"
  },
  "language_info": {
   "codemirror_mode": {
    "name": "ipython",
    "version": 3
   },
   "file_extension": ".py",
   "mimetype": "text/x-python",
   "name": "python",
   "nbconvert_exporter": "python",
   "pygments_lexer": "ipython3",
   "version": "3.7.3"
  }
 },
 "nbformat": 4,
 "nbformat_minor": 2
}
