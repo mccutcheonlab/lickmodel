{
 "cells": [
  {
   "cell_type": "markdown",
   "metadata": {},
   "source": [
    "# Lick model"
   ]
  },
  {
   "cell_type": "markdown",
   "metadata": {},
   "source": [
    "### This notebook is an initial attempt to model trains of licks when rats are choosing between two solutions (e.g. protein and carbohydrate)"
   ]
  },
  {
   "cell_type": "code",
   "execution_count": 131,
   "metadata": {},
   "outputs": [],
   "source": [
    "import random\n",
    "import numpy as np\n",
    "import math\n",
    "import matplotlib.pyplot as plt\n",
    "\n",
    "%matplotlib inline "
   ]
  },
  {
   "cell_type": "code",
   "execution_count": 218,
   "metadata": {},
   "outputs": [],
   "source": [
    "# Initializes the system and system variables\n",
    "\n",
    "System = {}\n",
    "System['PP'] = 0.75\n",
    "System['tau'] = 10\n",
    "System['licksinburst'] = 0"
   ]
  },
  {
   "cell_type": "code",
   "execution_count": 219,
   "metadata": {},
   "outputs": [],
   "source": [
    "def update_func2(System, licks):\n",
    "    pp = System['PP']\n",
    "    tau = System['tau']\n",
    "    x = System['licksinburst']\n",
    "    \n",
    "    if licks[-1] == 0:\n",
    "            if random.random() < pp:\n",
    "                licks.append(2)            \n",
    "            else:\n",
    "                licks.append(1)\n",
    "            System['licksinburst'] = x+1\n",
    "    else:\n",
    "        p_cont = math.exp(-x*(1/tau))\n",
    "        if random.random() < p_cont:           \n",
    "            licks.append(licks[-1])\n",
    "            System['licksinburst'] = x+1\n",
    "        else:\n",
    "            licks.append(0)\n",
    "            System['licksinburst'] = 0  \n",
    "            "
   ]
  },
  {
   "cell_type": "code",
   "execution_count": 220,
   "metadata": {},
   "outputs": [
    {
     "name": "stdout",
     "output_type": "stream",
     "text": [
      "0.7478152309612984\n"
     ]
    }
   ],
   "source": [
    "# Initializes the arrays to store data\n",
    "\n",
    "licks = [0]\n",
    "\n",
    "for i in range(1, 1000):\n",
    "    update_func2(System, licks)\n",
    "    # print(x, licks)\n",
    "\n",
    "# print(licks)\n",
    "print(np.mean([x-1 for x in licks if x>0]))"
   ]
  },
  {
   "cell_type": "code",
   "execution_count": 221,
   "metadata": {},
   "outputs": [],
   "source": [
    "# Create running average\n",
    "\n",
    "N = 12\n",
    "cumsum, licks_smooth = [0], []\n",
    "\n",
    "for i, x in enumerate(licks, 1):\n",
    "    cumsum.append(cumsum[i-1] + x)\n",
    "    if i>=N:\n",
    "        moving_ave = (cumsum[i] - cumsum[i-N])/N\n",
    "        #can do stuff with moving_ave here\n",
    "        licks_smooth.append(moving_ave)"
   ]
  },
  {
   "cell_type": "code",
   "execution_count": 222,
   "metadata": {},
   "outputs": [],
   "source": [
    "def interpret_med_data():\n",
    "    print('To do')\n",
    "    \n",
    "    "
   ]
  },
  {
   "cell_type": "code",
   "execution_count": 223,
   "metadata": {},
   "outputs": [],
   "source": [
    "# Code to calculate burst data\n",
    "burstarray = []\n",
    "\n",
    "tmp = []\n",
    "for i, x in enumerate(licks):\n",
    "    if x == 0:\n",
    "        burstarray.append(tmp)\n",
    "        tmp = []\n",
    "    else:\n",
    "        tmp.append(x)\n",
    "        \n",
    "\n",
    "burstlength1 = [len(x) for x in burstarray[1:] if x[0]==1]\n",
    "burstlength2 = [len(x) for x in burstarray[1:] if x[0]==2]"
   ]
  },
  {
   "cell_type": "code",
   "execution_count": 243,
   "metadata": {},
   "outputs": [
    {
     "data": {
      "text/plain": [
       "[<matplotlib.axis.XTick at 0x10543390>,\n",
       " <matplotlib.axis.XTick at 0x1053dc88>,\n",
       " <matplotlib.axis.XTick at 0x1053d9b0>,\n",
       " <matplotlib.axis.XTick at 0xedbc908>]"
      ]
     },
     "execution_count": 243,
     "metadata": {},
     "output_type": "execute_result"
    },
    {
     "data": {
      "image/png": "[encoded data removed]",
      "text/plain": [
       "<Figure size 1080x360 with 2 Axes>"
      ]
     },
     "metadata": {
      "needs_background": "light"
     },
     "output_type": "display_data"
    }
   ],
   "source": [
    "f, ax = plt.subplots(figsize=(15,5), ncols=2)\n",
    "\n",
    "xy1 = [[i, x] for i, x in enumerate(licks) if x == 1]\n",
    "array2 = [[i, x] for i, x in enumerate(licks) if x == 2]\n",
    "\n",
    "#ax[0].plot(array1[0],array1[1], 'x')\n",
    "#ax[0].scatter(array2, 'o')\n",
    "#ax[0].plot(np.arange(0,1000),[System['PP']]*1000, 'g', linestyle='dashed')\n",
    "#ax.set_xlim([0,10])\n",
    "#ax[0].plot(licks_smooth)\n",
    "\n",
    "\n",
    "bins = np.arange(1,20)\n",
    "ax[1].hist(burstlength1, bins=bins, histtype='step')\n",
    "ax[1].hist(burstlength2, bins=bins, histtype='step')\n",
    "ax[1].set_xticks([0, 5, 10, 15])"
   ]
  },
  {
   "cell_type": "code",
   "execution_count": 244,
   "metadata": {},
   "outputs": [
    {
     "data": {
      "text/plain": [
       "[[1, 1],\n",
       " [2, 1],\n",
       " [3, 1],\n",
       " [15, 1],\n",
       " [17, 1],\n",
       " [18, 1],\n",
       " [19, 1],\n",
       " [59, 1],\n",
       " [60, 1],\n",
       " [61, 1],\n",
       " [62, 1],\n",
       " [63, 1],\n",
       " [73, 1],\n",
       " [74, 1],\n",
       " [75, 1],\n",
       " [77, 1],\n",
       " [78, 1],\n",
       " [79, 1],\n",
       " [80, 1],\n",
       " [81, 1],\n",
       " [82, 1],\n",
       " [83, 1],\n",
       " [84, 1],\n",
       " [99, 1],\n",
       " [100, 1],\n",
       " [101, 1],\n",
       " [117, 1],\n",
       " [118, 1],\n",
       " [119, 1],\n",
       " [120, 1],\n",
       " [121, 1],\n",
       " [122, 1],\n",
       " [145, 1],\n",
       " [146, 1],\n",
       " [162, 1],\n",
       " [163, 1],\n",
       " [164, 1],\n",
       " [165, 1],\n",
       " [166, 1],\n",
       " [195, 1],\n",
       " [196, 1],\n",
       " [197, 1],\n",
       " [198, 1],\n",
       " [221, 1],\n",
       " [222, 1],\n",
       " [223, 1],\n",
       " [224, 1],\n",
       " [253, 1],\n",
       " [254, 1],\n",
       " [315, 1],\n",
       " [316, 1],\n",
       " [317, 1],\n",
       " [318, 1],\n",
       " [347, 1],\n",
       " [348, 1],\n",
       " [368, 1],\n",
       " [369, 1],\n",
       " [370, 1],\n",
       " [371, 1],\n",
       " [387, 1],\n",
       " [388, 1],\n",
       " [389, 1],\n",
       " [390, 1],\n",
       " [400, 1],\n",
       " [401, 1],\n",
       " [402, 1],\n",
       " [416, 1],\n",
       " [417, 1],\n",
       " [418, 1],\n",
       " [419, 1],\n",
       " [420, 1],\n",
       " [421, 1],\n",
       " [422, 1],\n",
       " [423, 1],\n",
       " [425, 1],\n",
       " [426, 1],\n",
       " [427, 1],\n",
       " [428, 1],\n",
       " [429, 1],\n",
       " [430, 1],\n",
       " [458, 1],\n",
       " [459, 1],\n",
       " [460, 1],\n",
       " [475, 1],\n",
       " [476, 1],\n",
       " [477, 1],\n",
       " [478, 1],\n",
       " [479, 1],\n",
       " [481, 1],\n",
       " [482, 1],\n",
       " [483, 1],\n",
       " [484, 1],\n",
       " [485, 1],\n",
       " [500, 1],\n",
       " [501, 1],\n",
       " [513, 1],\n",
       " [514, 1],\n",
       " [515, 1],\n",
       " [516, 1],\n",
       " [517, 1],\n",
       " [518, 1],\n",
       " [519, 1],\n",
       " [520, 1],\n",
       " [528, 1],\n",
       " [529, 1],\n",
       " [530, 1],\n",
       " [531, 1],\n",
       " [532, 1],\n",
       " [538, 1],\n",
       " [539, 1],\n",
       " [540, 1],\n",
       " [541, 1],\n",
       " [542, 1],\n",
       " [594, 1],\n",
       " [595, 1],\n",
       " [604, 1],\n",
       " [605, 1],\n",
       " [606, 1],\n",
       " [607, 1],\n",
       " [608, 1],\n",
       " [609, 1],\n",
       " [610, 1],\n",
       " [614, 1],\n",
       " [615, 1],\n",
       " [616, 1],\n",
       " [617, 1],\n",
       " [618, 1],\n",
       " [619, 1],\n",
       " [620, 1],\n",
       " [621, 1],\n",
       " [633, 1],\n",
       " [634, 1],\n",
       " [635, 1],\n",
       " [636, 1],\n",
       " [637, 1],\n",
       " [638, 1],\n",
       " [651, 1],\n",
       " [660, 1],\n",
       " [661, 1],\n",
       " [662, 1],\n",
       " [683, 1],\n",
       " [684, 1],\n",
       " [702, 1],\n",
       " [703, 1],\n",
       " [704, 1],\n",
       " [705, 1],\n",
       " [706, 1],\n",
       " [773, 1],\n",
       " [774, 1],\n",
       " [776, 1],\n",
       " [777, 1],\n",
       " [778, 1],\n",
       " [779, 1],\n",
       " [780, 1],\n",
       " [782, 1],\n",
       " [783, 1],\n",
       " [784, 1],\n",
       " [815, 1],\n",
       " [816, 1],\n",
       " [836, 1],\n",
       " [837, 1],\n",
       " [838, 1],\n",
       " [855, 1],\n",
       " [856, 1],\n",
       " [857, 1],\n",
       " [858, 1],\n",
       " [859, 1],\n",
       " [860, 1],\n",
       " [861, 1],\n",
       " [862, 1],\n",
       " [868, 1],\n",
       " [869, 1],\n",
       " [885, 1],\n",
       " [886, 1],\n",
       " [887, 1],\n",
       " [888, 1],\n",
       " [889, 1],\n",
       " [890, 1],\n",
       " [898, 1],\n",
       " [899, 1],\n",
       " [900, 1],\n",
       " [901, 1],\n",
       " [915, 1],\n",
       " [916, 1],\n",
       " [917, 1],\n",
       " [918, 1],\n",
       " [935, 1],\n",
       " [942, 1],\n",
       " [943, 1],\n",
       " [945, 1],\n",
       " [946, 1],\n",
       " [947, 1],\n",
       " [948, 1],\n",
       " [964, 1],\n",
       " [965, 1],\n",
       " [966, 1],\n",
       " [967, 1],\n",
       " [968, 1],\n",
       " [987, 1],\n",
       " [988, 1],\n",
       " [989, 1],\n",
       " [990, 1]]"
      ]
     },
     "execution_count": 244,
     "metadata": {},
     "output_type": "execute_result"
    }
   ],
   "source": [
    "xy1"
   ]
  },
  {
   "cell_type": "code",
   "execution_count": 68,
   "metadata": {},
   "outputs": [
    {
     "name": "stdout",
     "output_type": "stream",
     "text": [
      "AxesSubplot(0.125,0.125;0.775x0.755)\n"
     ]
    },
    {
     "data": {
      "text/plain": [
       "[<matplotlib.lines.Line2D at 0x8f32828>]"
      ]
     },
     "execution_count": 68,
     "metadata": {},
     "output_type": "execute_result"
    },
    {
     "data": {
      "image/png": "[encoded data removed]",
      "text/plain": [
       "<Figure size 432x288 with 1 Axes>"
      ]
     },
     "metadata": {
      "needs_background": "light"
     },
     "output_type": "display_data"
    }
   ],
   "source": [
    "f, ax = plt.subplots()\n",
    "\n",
    "lick_array = np.arange(0,10)\n",
    "k=3\n",
    "next_lick_p = [math.exp(-x*(1/k)) for x in lick_array]\n",
    "\n",
    "ax.plot(lick_array, next_lick_p)\n",
    "\n"
   ]
  },
  {
   "cell_type": "code",
   "execution_count": null,
   "metadata": {},
   "outputs": [],
   "source": []
  }
 ],
 "metadata": {
  "kernelspec": {
   "display_name": "Python 3",
   "language": "python",
   "name": "python3"
  },
  "language_info": {
   "codemirror_mode": {
    "name": "ipython",
    "version": 3
   },
   "file_extension": ".py",
   "mimetype": "text/x-python",
   "name": "python",
   "nbconvert_exporter": "python",
   "pygments_lexer": "ipython3",
   "version": "3.7.3"
  }
 },
 "nbformat": 4,
 "nbformat_minor": 2
}
