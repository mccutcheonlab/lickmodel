{
 "cells": [
  {
   "cell_type": "code",
   "execution_count": null,
   "metadata": {},
   "outputs": [],
   "source": [
    "# Notebook to extract licks from behavioural sessions when only one bottle is available\n",
    "\n",
    "xlfile = '..\\\\data\\\\IPP3_expdetails.xlsx'\n",
    "metafilename = 'IPP3_metafile'\n",
    "\n",
    "metafilemaker(xlfile, metafilename, fileformat='txt')\n",
    "\n",
    "metadata, header = metafilereader(metafilename+'.txt')"
   ]
  }
 ],
 "metadata": {
  "kernelspec": {
   "display_name": "Python 3",
   "language": "python",
   "name": "python3"
  },
  "language_info": {
   "codemirror_mode": {
    "name": "ipython",
    "version": 3
   },
   "file_extension": ".py",
   "mimetype": "text/x-python",
   "name": "python",
   "nbconvert_exporter": "python",
   "pygments_lexer": "ipython3",
   "version": "3.7.3"
  }
 },
 "nbformat": 4,
 "nbformat_minor": 2
}
