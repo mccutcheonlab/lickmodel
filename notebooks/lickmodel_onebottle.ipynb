{
 "cells": [
  {
   "cell_type": "code",
   "execution_count": 2,
   "metadata": {},
   "outputs": [],
   "source": [
    "import random\n",
    "import numpy as np\n",
    "import math\n",
    "from scipy.stats import lognorm\n",
    "\n",
    "import matplotlib as mpl\n",
    "my_params = mpl.rcParams\n",
    "import matplotlib.pyplot as plt\n",
    "import matplotlib.gridspec as gridspec\n",
    "import seaborn as sns\n",
    "\n",
    "savefolder = '..\\\\figs\\\\'\n",
    "\n",
    "%matplotlib inline\n",
    "%run helperfx"
   ]
  },
  {
   "cell_type": "code",
   "execution_count": 4,
   "metadata": {},
   "outputs": [
    {
     "data": {
      "text/plain": [
       "['csv',\n",
       " 'day4_data',\n",
       " 'day4_model_data',\n",
       " 'extractlicks',\n",
       " 'filename',\n",
       " 'header',\n",
       " 'isnumeric',\n",
       " 'lickCalc',\n",
       " 'lickdata',\n",
       " 'medfilereader',\n",
       " 'medfolder',\n",
       " 'metadata',\n",
       " 'metafilemaker',\n",
       " 'metafilename',\n",
       " 'metafilereader',\n",
       " 'np',\n",
       " 'os',\n",
       " 'output',\n",
       " 'rat',\n",
       " 'replace_codes',\n",
       " 'row',\n",
       " 'smooth',\n",
       " 'smooth2',\n",
       " 'solutionVar',\n",
       " 'xlfile',\n",
       " 'xlrd']"
      ]
     },
     "execution_count": 4,
     "metadata": {},
     "output_type": "execute_result"
    }
   ],
   "source": [
    "who_ls"
   ]
  },
  {
   "cell_type": "code",
   "execution_count": 7,
   "metadata": {},
   "outputs": [],
   "source": [
    "rats = [key for key in day4_model_data.keys()]"
   ]
  },
  {
   "cell_type": "code",
   "execution_count": null,
   "metadata": {},
   "outputs": [],
   "source": [
    "rat = rats[0]\n"
   ]
  }
 ],
 "metadata": {
  "kernelspec": {
   "display_name": "Python 3",
   "language": "python",
   "name": "python3"
  },
  "language_info": {
   "codemirror_mode": {
    "name": "ipython",
    "version": 3
   },
   "file_extension": ".py",
   "mimetype": "text/x-python",
   "name": "python",
   "nbconvert_exporter": "python",
   "pygments_lexer": "ipython3",
   "version": "3.7.3"
  }
 },
 "nbformat": 4,
 "nbformat_minor": 2
}
